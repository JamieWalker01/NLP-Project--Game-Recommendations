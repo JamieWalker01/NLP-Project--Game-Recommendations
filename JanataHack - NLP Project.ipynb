{
 "cells": [
  {
   "cell_type": "markdown",
   "metadata": {},
   "source": [
    "# NLP Project - Determining users' game recommendations based on reviews."
   ]
  },
  {
   "cell_type": "markdown",
   "metadata": {},
   "source": [
    "## Loading Data and Imports"
   ]
  },
  {
   "cell_type": "code",
   "execution_count": 1,
   "metadata": {},
   "outputs": [],
   "source": [
    "import numpy as np\n",
    "import pandas as pd\n",
    "import re\n",
    "import spacy\n",
    "import ast\n",
    "import unicodedata\n",
    "import seaborn as sns\n",
    "from sklearn.feature_extraction.text import CountVectorizer\n",
    "from sklearn.model_selection import train_test_split\n",
    "from sklearn.metrics import classification_report, confusion_matrix\n",
    "from sklearn.pipeline import Pipeline\n",
    "from sklearn.naive_bayes import MultinomialNB"
   ]
  },
  {
   "cell_type": "code",
   "execution_count": 2,
   "metadata": {},
   "outputs": [],
   "source": [
    "nlp = spacy.load('en_core_web_sm')"
   ]
  },
  {
   "cell_type": "code",
   "execution_count": 3,
   "metadata": {},
   "outputs": [],
   "source": [
    "reviews = pd.read_csv('train.csv')\n",
    "overview = pd.read_csv('game_overview.csv')"
   ]
  },
  {
   "cell_type": "markdown",
   "metadata": {},
   "source": [
    "### The data comes from an Analytics Vidhyas competition found at: https://datahack.analyticsvidhya.com/contest/janatahack-nlp-hackathon/ "
   ]
  },
  {
   "cell_type": "code",
   "execution_count": 4,
   "metadata": {},
   "outputs": [
    {
     "data": {
      "text/html": [
       "<div>\n",
       "<style scoped>\n",
       "    .dataframe tbody tr th:only-of-type {\n",
       "        vertical-align: middle;\n",
       "    }\n",
       "\n",
       "    .dataframe tbody tr th {\n",
       "        vertical-align: top;\n",
       "    }\n",
       "\n",
       "    .dataframe thead th {\n",
       "        text-align: right;\n",
       "    }\n",
       "</style>\n",
       "<table border=\"1\" class=\"dataframe\">\n",
       "  <thead>\n",
       "    <tr style=\"text-align: right;\">\n",
       "      <th></th>\n",
       "      <th>review_id</th>\n",
       "      <th>title</th>\n",
       "      <th>year</th>\n",
       "      <th>user_review</th>\n",
       "      <th>user_suggestion</th>\n",
       "    </tr>\n",
       "  </thead>\n",
       "  <tbody>\n",
       "    <tr>\n",
       "      <th>0</th>\n",
       "      <td>1</td>\n",
       "      <td>Spooky's Jump Scare Mansion</td>\n",
       "      <td>2016.0</td>\n",
       "      <td>I'm scared and hearing creepy voices.  So I'll...</td>\n",
       "      <td>1</td>\n",
       "    </tr>\n",
       "    <tr>\n",
       "      <th>1</th>\n",
       "      <td>2</td>\n",
       "      <td>Spooky's Jump Scare Mansion</td>\n",
       "      <td>2016.0</td>\n",
       "      <td>Best game, more better than Sam Pepper's YouTu...</td>\n",
       "      <td>1</td>\n",
       "    </tr>\n",
       "    <tr>\n",
       "      <th>2</th>\n",
       "      <td>3</td>\n",
       "      <td>Spooky's Jump Scare Mansion</td>\n",
       "      <td>2016.0</td>\n",
       "      <td>A littly iffy on the controls, but once you kn...</td>\n",
       "      <td>1</td>\n",
       "    </tr>\n",
       "    <tr>\n",
       "      <th>3</th>\n",
       "      <td>4</td>\n",
       "      <td>Spooky's Jump Scare Mansion</td>\n",
       "      <td>2015.0</td>\n",
       "      <td>Great game, fun and colorful and all that.A si...</td>\n",
       "      <td>1</td>\n",
       "    </tr>\n",
       "    <tr>\n",
       "      <th>4</th>\n",
       "      <td>5</td>\n",
       "      <td>Spooky's Jump Scare Mansion</td>\n",
       "      <td>2015.0</td>\n",
       "      <td>Not many games have the cute tag right next to...</td>\n",
       "      <td>1</td>\n",
       "    </tr>\n",
       "  </tbody>\n",
       "</table>\n",
       "</div>"
      ],
      "text/plain": [
       "   review_id                        title    year  \\\n",
       "0          1  Spooky's Jump Scare Mansion  2016.0   \n",
       "1          2  Spooky's Jump Scare Mansion  2016.0   \n",
       "2          3  Spooky's Jump Scare Mansion  2016.0   \n",
       "3          4  Spooky's Jump Scare Mansion  2015.0   \n",
       "4          5  Spooky's Jump Scare Mansion  2015.0   \n",
       "\n",
       "                                         user_review  user_suggestion  \n",
       "0  I'm scared and hearing creepy voices.  So I'll...                1  \n",
       "1  Best game, more better than Sam Pepper's YouTu...                1  \n",
       "2  A littly iffy on the controls, but once you kn...                1  \n",
       "3  Great game, fun and colorful and all that.A si...                1  \n",
       "4  Not many games have the cute tag right next to...                1  "
      ]
     },
     "execution_count": 4,
     "metadata": {},
     "output_type": "execute_result"
    }
   ],
   "source": [
    "reviews.head()"
   ]
  },
  {
   "cell_type": "markdown",
   "metadata": {},
   "source": [
    "### Reviews contain the users' reviews and the users' suggestions which will be used as the label. 1 = they would recommend the game, 0 = they would not."
   ]
  },
  {
   "cell_type": "code",
   "execution_count": 5,
   "metadata": {},
   "outputs": [
    {
     "data": {
      "text/html": [
       "<div>\n",
       "<style scoped>\n",
       "    .dataframe tbody tr th:only-of-type {\n",
       "        vertical-align: middle;\n",
       "    }\n",
       "\n",
       "    .dataframe tbody tr th {\n",
       "        vertical-align: top;\n",
       "    }\n",
       "\n",
       "    .dataframe thead th {\n",
       "        text-align: right;\n",
       "    }\n",
       "</style>\n",
       "<table border=\"1\" class=\"dataframe\">\n",
       "  <thead>\n",
       "    <tr style=\"text-align: right;\">\n",
       "      <th></th>\n",
       "      <th>title</th>\n",
       "      <th>developer</th>\n",
       "      <th>publisher</th>\n",
       "      <th>tags</th>\n",
       "      <th>overview</th>\n",
       "    </tr>\n",
       "  </thead>\n",
       "  <tbody>\n",
       "    <tr>\n",
       "      <th>0</th>\n",
       "      <td>Spooky's Jump Scare Mansion</td>\n",
       "      <td>Lag Studios</td>\n",
       "      <td>Lag Studios</td>\n",
       "      <td>['Horror', 'Free to Play', 'Cute', 'First-Pers...</td>\n",
       "      <td>Can you survive 1000 rooms of cute terror? Or ...</td>\n",
       "    </tr>\n",
       "    <tr>\n",
       "      <th>1</th>\n",
       "      <td>Sakura Clicker</td>\n",
       "      <td>Winged Cloud</td>\n",
       "      <td>Winged Cloud</td>\n",
       "      <td>['Nudity', 'Anime', 'Free to Play', 'Mature', ...</td>\n",
       "      <td>The latest entry in the Sakura series is more ...</td>\n",
       "    </tr>\n",
       "    <tr>\n",
       "      <th>2</th>\n",
       "      <td>WARMODE</td>\n",
       "      <td>WARTEAM</td>\n",
       "      <td>WARTEAM</td>\n",
       "      <td>['Early Access', 'Free to Play', 'FPS', 'Multi...</td>\n",
       "      <td>Free to play shooter about the confrontation o...</td>\n",
       "    </tr>\n",
       "    <tr>\n",
       "      <th>3</th>\n",
       "      <td>Fractured Space</td>\n",
       "      <td>Edge Case Games Ltd.</td>\n",
       "      <td>Edge Case Games Ltd.</td>\n",
       "      <td>['Space', 'Multiplayer', 'Free to Play', 'PvP'...</td>\n",
       "      <td>Take the helm of a gigantic capital ship and g...</td>\n",
       "    </tr>\n",
       "    <tr>\n",
       "      <th>4</th>\n",
       "      <td>Counter-Strike: Global Offensive</td>\n",
       "      <td>Valve, Hidden Path Entertainment</td>\n",
       "      <td>Valve</td>\n",
       "      <td>['FPS', 'Multiplayer', 'Shooter', 'Action', 'T...</td>\n",
       "      <td>Counter-Strike: Global Offensive (CS: GO) expa...</td>\n",
       "    </tr>\n",
       "  </tbody>\n",
       "</table>\n",
       "</div>"
      ],
      "text/plain": [
       "                              title                          developer  \\\n",
       "0       Spooky's Jump Scare Mansion                       Lag Studios    \n",
       "1                    Sakura Clicker                      Winged Cloud    \n",
       "2                           WARMODE                           WARTEAM    \n",
       "3                   Fractured Space              Edge Case Games Ltd.    \n",
       "4  Counter-Strike: Global Offensive  Valve, Hidden Path Entertainment    \n",
       "\n",
       "               publisher                                               tags  \\\n",
       "0           Lag Studios   ['Horror', 'Free to Play', 'Cute', 'First-Pers...   \n",
       "1          Winged Cloud   ['Nudity', 'Anime', 'Free to Play', 'Mature', ...   \n",
       "2               WARTEAM   ['Early Access', 'Free to Play', 'FPS', 'Multi...   \n",
       "3  Edge Case Games Ltd.   ['Space', 'Multiplayer', 'Free to Play', 'PvP'...   \n",
       "4                 Valve   ['FPS', 'Multiplayer', 'Shooter', 'Action', 'T...   \n",
       "\n",
       "                                            overview  \n",
       "0  Can you survive 1000 rooms of cute terror? Or ...  \n",
       "1  The latest entry in the Sakura series is more ...  \n",
       "2  Free to play shooter about the confrontation o...  \n",
       "3  Take the helm of a gigantic capital ship and g...  \n",
       "4  Counter-Strike: Global Offensive (CS: GO) expa...  "
      ]
     },
     "execution_count": 5,
     "metadata": {},
     "output_type": "execute_result"
    }
   ],
   "source": [
    "overview.head()"
   ]
  },
  {
   "cell_type": "markdown",
   "metadata": {},
   "source": [
    "### The overview data provides a lot more information on the game which could be used in the algorithm. Before I merge the datasets I will make sure there are no missing values and that there are no titles in reviews that aren't in overview.  "
   ]
  },
  {
   "cell_type": "code",
   "execution_count": 6,
   "metadata": {},
   "outputs": [
    {
     "name": "stdout",
     "output_type": "stream",
     "text": [
      "<class 'pandas.core.frame.DataFrame'>\n",
      "RangeIndex: 64 entries, 0 to 63\n",
      "Data columns (total 5 columns):\n",
      " #   Column     Non-Null Count  Dtype \n",
      "---  ------     --------------  ----- \n",
      " 0   title      64 non-null     object\n",
      " 1   developer  64 non-null     object\n",
      " 2   publisher  64 non-null     object\n",
      " 3   tags       64 non-null     object\n",
      " 4   overview   64 non-null     object\n",
      "dtypes: object(5)\n",
      "memory usage: 2.6+ KB\n"
     ]
    }
   ],
   "source": [
    "overview.info()"
   ]
  },
  {
   "cell_type": "code",
   "execution_count": 7,
   "metadata": {
    "scrolled": true
   },
   "outputs": [
    {
     "name": "stdout",
     "output_type": "stream",
     "text": [
      "<class 'pandas.core.frame.DataFrame'>\n",
      "RangeIndex: 17494 entries, 0 to 17493\n",
      "Data columns (total 5 columns):\n",
      " #   Column           Non-Null Count  Dtype  \n",
      "---  ------           --------------  -----  \n",
      " 0   review_id        17494 non-null  int64  \n",
      " 1   title            17494 non-null  object \n",
      " 2   year             17316 non-null  float64\n",
      " 3   user_review      17494 non-null  object \n",
      " 4   user_suggestion  17494 non-null  int64  \n",
      "dtypes: float64(1), int64(2), object(2)\n",
      "memory usage: 683.5+ KB\n"
     ]
    }
   ],
   "source": [
    "reviews.info()"
   ]
  },
  {
   "cell_type": "code",
   "execution_count": 8,
   "metadata": {},
   "outputs": [
    {
     "name": "stdout",
     "output_type": "stream",
     "text": [
      "Games Titles present in reviews but not in overview 0\n"
     ]
    }
   ],
   "source": [
    "overview_games = set(overview.title.unique())\n",
    "reviews_games = set(reviews.title.unique())\n",
    "print(\"Games Titles present in reviews but not in overview\", len(reviews_games - overview_games))"
   ]
  },
  {
   "cell_type": "code",
   "execution_count": 9,
   "metadata": {},
   "outputs": [
    {
     "data": {
      "text/html": [
       "<div>\n",
       "<style scoped>\n",
       "    .dataframe tbody tr th:only-of-type {\n",
       "        vertical-align: middle;\n",
       "    }\n",
       "\n",
       "    .dataframe tbody tr th {\n",
       "        vertical-align: top;\n",
       "    }\n",
       "\n",
       "    .dataframe thead th {\n",
       "        text-align: right;\n",
       "    }\n",
       "</style>\n",
       "<table border=\"1\" class=\"dataframe\">\n",
       "  <thead>\n",
       "    <tr style=\"text-align: right;\">\n",
       "      <th></th>\n",
       "      <th>review_id</th>\n",
       "      <th>title</th>\n",
       "      <th>year</th>\n",
       "      <th>user_review</th>\n",
       "      <th>user_suggestion</th>\n",
       "      <th>developer</th>\n",
       "      <th>publisher</th>\n",
       "      <th>tags</th>\n",
       "      <th>overview</th>\n",
       "    </tr>\n",
       "  </thead>\n",
       "  <tbody>\n",
       "    <tr>\n",
       "      <th>0</th>\n",
       "      <td>1</td>\n",
       "      <td>Spooky's Jump Scare Mansion</td>\n",
       "      <td>2016.0</td>\n",
       "      <td>I'm scared and hearing creepy voices.  So I'll...</td>\n",
       "      <td>1</td>\n",
       "      <td>Lag Studios</td>\n",
       "      <td>Lag Studios</td>\n",
       "      <td>['Horror', 'Free to Play', 'Cute', 'First-Pers...</td>\n",
       "      <td>Can you survive 1000 rooms of cute terror? Or ...</td>\n",
       "    </tr>\n",
       "    <tr>\n",
       "      <th>1</th>\n",
       "      <td>2</td>\n",
       "      <td>Spooky's Jump Scare Mansion</td>\n",
       "      <td>2016.0</td>\n",
       "      <td>Best game, more better than Sam Pepper's YouTu...</td>\n",
       "      <td>1</td>\n",
       "      <td>Lag Studios</td>\n",
       "      <td>Lag Studios</td>\n",
       "      <td>['Horror', 'Free to Play', 'Cute', 'First-Pers...</td>\n",
       "      <td>Can you survive 1000 rooms of cute terror? Or ...</td>\n",
       "    </tr>\n",
       "    <tr>\n",
       "      <th>2</th>\n",
       "      <td>3</td>\n",
       "      <td>Spooky's Jump Scare Mansion</td>\n",
       "      <td>2016.0</td>\n",
       "      <td>A littly iffy on the controls, but once you kn...</td>\n",
       "      <td>1</td>\n",
       "      <td>Lag Studios</td>\n",
       "      <td>Lag Studios</td>\n",
       "      <td>['Horror', 'Free to Play', 'Cute', 'First-Pers...</td>\n",
       "      <td>Can you survive 1000 rooms of cute terror? Or ...</td>\n",
       "    </tr>\n",
       "    <tr>\n",
       "      <th>3</th>\n",
       "      <td>4</td>\n",
       "      <td>Spooky's Jump Scare Mansion</td>\n",
       "      <td>2015.0</td>\n",
       "      <td>Great game, fun and colorful and all that.A si...</td>\n",
       "      <td>1</td>\n",
       "      <td>Lag Studios</td>\n",
       "      <td>Lag Studios</td>\n",
       "      <td>['Horror', 'Free to Play', 'Cute', 'First-Pers...</td>\n",
       "      <td>Can you survive 1000 rooms of cute terror? Or ...</td>\n",
       "    </tr>\n",
       "    <tr>\n",
       "      <th>4</th>\n",
       "      <td>5</td>\n",
       "      <td>Spooky's Jump Scare Mansion</td>\n",
       "      <td>2015.0</td>\n",
       "      <td>Not many games have the cute tag right next to...</td>\n",
       "      <td>1</td>\n",
       "      <td>Lag Studios</td>\n",
       "      <td>Lag Studios</td>\n",
       "      <td>['Horror', 'Free to Play', 'Cute', 'First-Pers...</td>\n",
       "      <td>Can you survive 1000 rooms of cute terror? Or ...</td>\n",
       "    </tr>\n",
       "  </tbody>\n",
       "</table>\n",
       "</div>"
      ],
      "text/plain": [
       "   review_id                        title    year  \\\n",
       "0          1  Spooky's Jump Scare Mansion  2016.0   \n",
       "1          2  Spooky's Jump Scare Mansion  2016.0   \n",
       "2          3  Spooky's Jump Scare Mansion  2016.0   \n",
       "3          4  Spooky's Jump Scare Mansion  2015.0   \n",
       "4          5  Spooky's Jump Scare Mansion  2015.0   \n",
       "\n",
       "                                         user_review  user_suggestion  \\\n",
       "0  I'm scared and hearing creepy voices.  So I'll...                1   \n",
       "1  Best game, more better than Sam Pepper's YouTu...                1   \n",
       "2  A littly iffy on the controls, but once you kn...                1   \n",
       "3  Great game, fun and colorful and all that.A si...                1   \n",
       "4  Not many games have the cute tag right next to...                1   \n",
       "\n",
       "      developer     publisher  \\\n",
       "0  Lag Studios   Lag Studios    \n",
       "1  Lag Studios   Lag Studios    \n",
       "2  Lag Studios   Lag Studios    \n",
       "3  Lag Studios   Lag Studios    \n",
       "4  Lag Studios   Lag Studios    \n",
       "\n",
       "                                                tags  \\\n",
       "0  ['Horror', 'Free to Play', 'Cute', 'First-Pers...   \n",
       "1  ['Horror', 'Free to Play', 'Cute', 'First-Pers...   \n",
       "2  ['Horror', 'Free to Play', 'Cute', 'First-Pers...   \n",
       "3  ['Horror', 'Free to Play', 'Cute', 'First-Pers...   \n",
       "4  ['Horror', 'Free to Play', 'Cute', 'First-Pers...   \n",
       "\n",
       "                                            overview  \n",
       "0  Can you survive 1000 rooms of cute terror? Or ...  \n",
       "1  Can you survive 1000 rooms of cute terror? Or ...  \n",
       "2  Can you survive 1000 rooms of cute terror? Or ...  \n",
       "3  Can you survive 1000 rooms of cute terror? Or ...  \n",
       "4  Can you survive 1000 rooms of cute terror? Or ...  "
      ]
     },
     "execution_count": 9,
     "metadata": {},
     "output_type": "execute_result"
    }
   ],
   "source": [
    "reviews = pd.merge(reviews,overview,left_on='title',right_on='title')\n",
    "reviews.head()"
   ]
  },
  {
   "cell_type": "markdown",
   "metadata": {},
   "source": [
    "### There are no missing values apart from the year, which won't be used in the model. There are no titles in reviews that do not appear in overview so we can merge the datasets. "
   ]
  },
  {
   "cell_type": "code",
   "execution_count": 10,
   "metadata": {},
   "outputs": [
    {
     "data": {
      "text/plain": [
       "<matplotlib.axes._subplots.AxesSubplot at 0x1a28a837d0>"
      ]
     },
     "execution_count": 10,
     "metadata": {},
     "output_type": "execute_result"
    },
    {
     "data": {
      "image/png": "[encoded data removed]",
      "text/plain": [
       "<Figure size 432x288 with 1 Axes>"
      ]
     },
     "metadata": {
      "needs_background": "light"
     },
     "output_type": "display_data"
    }
   ],
   "source": [
    "sns.countplot(data=reviews, x= reviews['user_suggestion'])"
   ]
  },
  {
   "cell_type": "markdown",
   "metadata": {},
   "source": [
    "### A quick graph shows the proportions of 0 and 1 in 'user_suggestions'. They are not perfectly balanced but good enough to give a meaningful accuracy value. "
   ]
  },
  {
   "cell_type": "markdown",
   "metadata": {},
   "source": [
    "## Data Cleaning "
   ]
  },
  {
   "cell_type": "markdown",
   "metadata": {},
   "source": [
    "### First I will define some useful functions, then I will compile them into one cleaner function which will iterate over the 'user_review', 'title' and 'overview' column. "
   ]
  },
  {
   "cell_type": "code",
   "execution_count": 11,
   "metadata": {},
   "outputs": [],
   "source": [
    "is_ascii = lambda s: len(s) == len(s.encode())\n",
    "non_ascii_idx = [idx for idx,user_review in enumerate(reviews['user_review'].values) if not is_ascii(user_review)]"
   ]
  },
  {
   "cell_type": "code",
   "execution_count": 12,
   "metadata": {},
   "outputs": [],
   "source": [
    "import unicodedata\n",
    "def remove_nonascii(text):\n",
    "    text = unicodedata.normalize('NFKD', text).encode('ascii','ignore').decode('utf-8', 'ignore')\n",
    "    return text"
   ]
  },
  {
   "cell_type": "markdown",
   "metadata": {},
   "source": [
    "### This function removes non-ASCII characters. To locate them I will compare the length of the string to its UTF-8 encoded version.  They will then be normalized and encoded into their ASCII equivalent, removing any non-ASCII characters. The string is then decoded back into UTF-8 which is the standard form for programming languages."
   ]
  },
  {
   "cell_type": "code",
   "execution_count": 13,
   "metadata": {},
   "outputs": [],
   "source": [
    "def remove_url(text):\n",
    "    return re.sub(\"http[s]*://[^\\s]+\",\" \", text)"
   ]
  },
  {
   "cell_type": "code",
   "execution_count": 14,
   "metadata": {},
   "outputs": [],
   "source": [
    "def remove_spaces_punct_specialchars(text):\n",
    "    text_sent = re.sub(\"[-!\\\"#$%&'()*+,./:;<=>?@\\][^_`|}{~']\",\" \",text) \n",
    "    text_sent = text_sent.replace(\"\\\\\",\" \")\n",
    "    text_sent = re.sub(r'\\s+', ' ',text_sent)\n",
    "    return text_sent"
   ]
  },
  {
   "cell_type": "markdown",
   "metadata": {},
   "source": [
    "### These Functions remove any URLs, extra white space, punctuation and special characters. These features add little meaning to the sentence and will create noise in the model. "
   ]
  },
  {
   "cell_type": "markdown",
   "metadata": {},
   "source": [
    "### I will now define the cleaner function by compiling the above functions, removing stopwords and adding lemmatization."
   ]
  },
  {
   "cell_type": "code",
   "execution_count": 15,
   "metadata": {},
   "outputs": [],
   "source": [
    "def clean_corpus(dataframe,col_name):\n",
    "    corpus = list(dataframe[col_name].values)  \n",
    "    text_sent = [remove_nonascii(sent) for sent in corpus]\n",
    "    text_sent = [remove_url(text) for text in text_sent]\n",
    "    text_sent = [remove_spaces_punct_specialchars(text) for text in text_sent]\n",
    "    text_sent = list(map(str.lower,text_sent))\n",
    "    Docs = nlp.pipe(text_sent,disable=[\"ner\",\"parser\"])   \n",
    "    #'ner' and 'parser' components are removed to improve run speed\n",
    "    cleaned_corpus = []\n",
    "    for Doc in Docs:\n",
    "        Doc_text = []\n",
    "        for token in Doc:\n",
    "            if token.is_stop == False:\n",
    "                Doc_text.append(token.lemma_)\n",
    "                # Non-stop words are lemmatized and added to Doc_text\n",
    "        cleaned_corpus.append(Doc_text)\n",
    "    cleaned_corpus = [\" \".join(cleaned_text) for cleaned_text in cleaned_corpus]\n",
    "    return cleaned_corpus"
   ]
  },
  {
   "cell_type": "code",
   "execution_count": 16,
   "metadata": {},
   "outputs": [],
   "source": [
    "reviews['user_review'] = clean_corpus(reviews, 'user_review')"
   ]
  },
  {
   "cell_type": "code",
   "execution_count": 17,
   "metadata": {},
   "outputs": [],
   "source": [
    "reviews['title'] = clean_corpus(reviews, 'title')"
   ]
  },
  {
   "cell_type": "code",
   "execution_count": 18,
   "metadata": {},
   "outputs": [],
   "source": [
    "reviews['overview'] = clean_corpus(reviews, 'overview')"
   ]
  },
  {
   "cell_type": "markdown",
   "metadata": {},
   "source": [
    "### The 'tag' feature looks like a list of strings but is actually just one long string. It will need to be split into its separate tags."
   ]
  },
  {
   "cell_type": "code",
   "execution_count": 19,
   "metadata": {},
   "outputs": [
    {
     "data": {
      "text/plain": [
       "str"
      ]
     },
     "execution_count": 19,
     "metadata": {},
     "output_type": "execute_result"
    }
   ],
   "source": [
    "type(reviews['tags'][0])"
   ]
  },
  {
   "cell_type": "code",
   "execution_count": 20,
   "metadata": {},
   "outputs": [
    {
     "data": {
      "text/plain": [
       "\"['Horror', 'Free to Play', 'Cute', 'First-Person', 'Singleplayer', 'Psychological Horror', 'Indie', 'Adventure', 'Dark', 'Funny', 'Atmospheric', 'Action', 'Walking Simulator', 'Survival', 'Survival Horror', 'Anime', 'Gore', 'Comedy', 'Multiplayer', 'Illuminati']\""
      ]
     },
     "execution_count": 20,
     "metadata": {},
     "output_type": "execute_result"
    }
   ],
   "source": [
    "reviews['tags'][0]"
   ]
  },
  {
   "cell_type": "code",
   "execution_count": 21,
   "metadata": {},
   "outputs": [],
   "source": [
    "def tag_cleaner(df,col_name):\n",
    "    tags = [ast.literal_eval(tag) for tag in df[col_name].values] #Evaluates the strings into list of strings\n",
    "    tags = [\" \".join(set(tag)) for tag in tags]\n",
    "    return np.array(tags) "
   ]
  },
  {
   "cell_type": "code",
   "execution_count": 22,
   "metadata": {},
   "outputs": [],
   "source": [
    "reviews['tags'] = tag_cleaner(reviews,'tags')"
   ]
  },
  {
   "cell_type": "markdown",
   "metadata": {},
   "source": [
    "### Now the features have been cleaned, they can be vectorized and entered into the model. I will make a simple baseline model just using the user_review feature which can then be improved. "
   ]
  },
  {
   "cell_type": "code",
   "execution_count": 23,
   "metadata": {},
   "outputs": [],
   "source": [
    "X = reviews['user_review']\n",
    "y= reviews['user_suggestion']"
   ]
  },
  {
   "cell_type": "code",
   "execution_count": 24,
   "metadata": {},
   "outputs": [],
   "source": [
    "X_train, X_test, y_train, y_test = train_test_split(X, y, test_size=0.33, random_state=42)"
   ]
  },
  {
   "cell_type": "code",
   "execution_count": 25,
   "metadata": {},
   "outputs": [],
   "source": [
    "pipeline = Pipeline([\n",
    "    ('vectorize', CountVectorizer()),\n",
    "    ('classifier', MultinomialNB())\n",
    "])"
   ]
  },
  {
   "cell_type": "code",
   "execution_count": 26,
   "metadata": {},
   "outputs": [
    {
     "data": {
      "text/plain": [
       "Pipeline(memory=None,\n",
       "         steps=[('vectorize',\n",
       "                 CountVectorizer(analyzer='word', binary=False,\n",
       "                                 decode_error='strict',\n",
       "                                 dtype=<class 'numpy.int64'>, encoding='utf-8',\n",
       "                                 input='content', lowercase=True, max_df=1.0,\n",
       "                                 max_features=None, min_df=1,\n",
       "                                 ngram_range=(1, 1), preprocessor=None,\n",
       "                                 stop_words=None, strip_accents=None,\n",
       "                                 token_pattern='(?u)\\\\b\\\\w\\\\w+\\\\b',\n",
       "                                 tokenizer=None, vocabulary=None)),\n",
       "                ('classifier',\n",
       "                 MultinomialNB(alpha=1.0, class_prior=None, fit_prior=True))],\n",
       "         verbose=False)"
      ]
     },
     "execution_count": 26,
     "metadata": {},
     "output_type": "execute_result"
    }
   ],
   "source": [
    "pipeline.fit(X_train, y_train)"
   ]
  },
  {
   "cell_type": "code",
   "execution_count": 27,
   "metadata": {},
   "outputs": [],
   "source": [
    "mnb_review_predictions = pipeline.predict(X_test)"
   ]
  },
  {
   "cell_type": "code",
   "execution_count": 28,
   "metadata": {},
   "outputs": [
    {
     "name": "stdout",
     "output_type": "stream",
     "text": [
      "              precision    recall  f1-score   support\n",
      "\n",
      "           0       0.79      0.81      0.80      2392\n",
      "           1       0.87      0.85      0.86      3382\n",
      "\n",
      "    accuracy                           0.84      5774\n",
      "   macro avg       0.83      0.83      0.83      5774\n",
      "weighted avg       0.84      0.84      0.84      5774\n",
      "\n",
      "[[1948  444]\n",
      " [ 503 2879]]\n"
     ]
    }
   ],
   "source": [
    "print(classification_report(mnb_review_predictions,y_test))\n",
    "print(confusion_matrix(mnb_review_predictions, y_test))"
   ]
  },
  {
   "cell_type": "markdown",
   "metadata": {},
   "source": [
    "### I chose a Multinomial Naive Bayes classifier for the baseline model as it runs significantly faster than other classifiers and is the go-to for NLP problems. The model gave an accuracy of 0.84, which isn't bad but let's see if this can be improved by adding the extra features."
   ]
  },
  {
   "cell_type": "code",
   "execution_count": 29,
   "metadata": {},
   "outputs": [],
   "source": [
    "vec_train = pd.DataFrame()\n",
    "vec_test = pd.DataFrame()\n",
    "cvec = CountVectorizer()\n",
    "for feat in reviews.iloc[:,[1,3,7,8]]:\n",
    "    X = reviews[feat]\n",
    "    y= reviews['user_suggestion']\n",
    "    X_train, X_test, y_train, y_test = train_test_split(X, y, test_size=0.33, random_state=42)\n",
    "    cvec.fit(X_train)\n",
    "    trans_feat_train = pd.DataFrame(cvec.transform(X_train).todense(), columns = cvec.get_feature_names())\n",
    "    trans_feat_test = pd.DataFrame(cvec.transform(X_test).todense(), columns = cvec.get_feature_names())\n",
    "    vec_train = pd.concat([vec_train, trans_feat_train],axis =1)   \n",
    "    vec_test = pd.concat([vec_test, trans_feat_test],axis =1)"
   ]
  },
  {
   "cell_type": "code",
   "execution_count": 30,
   "metadata": {},
   "outputs": [
    {
     "name": "stdout",
     "output_type": "stream",
     "text": [
      "(11720, 38263)\n",
      "(5774, 38263)\n"
     ]
    }
   ],
   "source": [
    "print(vec_train.shape)\n",
    "print(vec_test.shape)"
   ]
  },
  {
   "cell_type": "markdown",
   "metadata": {},
   "source": [
    "### As I am vectorizing multiple columns, the pipeline I used previously would give a document-term matrix with an incorrect shape for the classifier. Instead, I fit and transform each column into a data frame which I then concatenate to form a sparse matrix with the correct shape for the classifier. "
   ]
  },
  {
   "cell_type": "code",
   "execution_count": 31,
   "metadata": {},
   "outputs": [],
   "source": [
    "mnb2 = MultinomialNB()"
   ]
  },
  {
   "cell_type": "code",
   "execution_count": 32,
   "metadata": {},
   "outputs": [
    {
     "data": {
      "text/plain": [
       "MultinomialNB(alpha=1.0, class_prior=None, fit_prior=True)"
      ]
     },
     "execution_count": 32,
     "metadata": {},
     "output_type": "execute_result"
    }
   ],
   "source": [
    "mnb2.fit(vec_train, y_train)"
   ]
  },
  {
   "cell_type": "code",
   "execution_count": 33,
   "metadata": {},
   "outputs": [],
   "source": [
    "mnb2_pred = mnb2.predict(vec_test)"
   ]
  },
  {
   "cell_type": "code",
   "execution_count": 34,
   "metadata": {},
   "outputs": [
    {
     "name": "stdout",
     "output_type": "stream",
     "text": [
      "              precision    recall  f1-score   support\n",
      "\n",
      "           0       0.76      0.67      0.71      2785\n",
      "           1       0.72      0.80      0.76      2989\n",
      "\n",
      "    accuracy                           0.74      5774\n",
      "   macro avg       0.74      0.73      0.73      5774\n",
      "weighted avg       0.74      0.74      0.74      5774\n",
      "\n"
     ]
    }
   ],
   "source": [
    "print(classification_report(mnb2_pred,y_test))"
   ]
  },
  {
   "cell_type": "markdown",
   "metadata": {},
   "source": [
    "### Adding the extra features did not increase the models' performance. This makes sense as the genre/title doesn't affect the quality of the game, especially considering the user would be picking a genre they already enjoy so there's little information to be gained here. \n",
    "### I experimented with using multiple classifiers and using TfidfTransformer but could not improve the baseline model."
   ]
  },
  {
   "cell_type": "markdown",
   "metadata": {},
   "source": [
    "## In conclusion, the baseline model gave the best performance with an accuracy of 0.84. This is a good result but not useable for a real-world application designed to predict if a user would recommend a game. The model could most likely be improved with more reviews and other information such as time played and a rating system. \n",
    "## Thank you for reading!"
   ]
  }
 ],
 "metadata": {
  "kernelspec": {
   "display_name": "Python 3",
   "language": "python",
   "name": "python3"
  },
  "language_info": {
   "codemirror_mode": {
    "name": "ipython",
    "version": 3
   },
   "file_extension": ".py",
   "mimetype": "text/x-python",
   "name": "python",
   "nbconvert_exporter": "python",
   "pygments_lexer": "ipython3",
   "version": "3.7.6"
  }
 },
 "nbformat": 4,
 "nbformat_minor": 4
}
